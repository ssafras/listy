{
 "cells": [
  {
   "cell_type": "code",
   "execution_count": 69,
   "metadata": {},
   "outputs": [],
   "source": [
    "from PIL import Image, ImageOps\n",
    "import os\n",
    "from pathlib import Path"
   ]
  },
  {
   "cell_type": "code",
   "execution_count": 67,
   "metadata": {},
   "outputs": [],
   "source": [
    "directory = \"/home/spiros/Desktop/\"\n",
    "processed_folder = \"data-processed\"\n",
    "original_folder = \"data-full\"\n",
    "\n",
    "if not os.path.exists(directory+processed_folder):\n",
    "    os.makedirs(directory+processed_folder)\n",
    "\n",
    "pathlist = Path(directory+original_folder).glob('**/*.jpg')\n",
    "for path in pathlist:\n",
    "    # because path is object not string\n",
    "    path_in_str = str(path)\n",
    "\n",
    "    class_folder = \"/\".join(path_in_str.split(\"/\")[0:6]).replace(original_folder, processed_folder)\n",
    "    product_folder = \"/\".join(path_in_str.split(\"/\")[0:7]).replace(original_folder, processed_folder)\n",
    "\n",
    "    if not os.path.exists(class_folder):\n",
    "        os.makedirs(class_folder)\n",
    "    if not os.path.exists(product_folder):\n",
    "        os.makedirs(product_folder)"
   ]
  },
  {
   "cell_type": "code",
   "execution_count": 68,
   "metadata": {},
   "outputs": [],
   "source": [
    "pathlist = Path(directory+original_folder).glob('**/*.jpg')\n",
    "for path in pathlist:\n",
    "    # because path is object not string\n",
    "    path_in_str = str(path)\n",
    "\n",
    "    class_folder = \"/\".join(path_in_str.split(\"/\")[0:6]).replace(original_folder, processed_folder)\n",
    "    product_folder = \"/\".join(path_in_str.split(\"/\")[0:7]).replace(original_folder, processed_folder)\n",
    "\n",
    "    filename = path_in_str.split(\"/\")[-1] # filename\n",
    "    old_path = path_in_str\n",
    "    new_path = product_folder+\"/\"+filename\n",
    "    \n",
    "    if not os.path.exists(new_path):\n",
    "\n",
    "        # Do the actual resizing\n",
    "        desired_size = 480\n",
    "\n",
    "        im = Image.open(old_path)\n",
    "        old_size = im.size  # old_size[0] is in (width, height) format\n",
    "\n",
    "        ratio = float(desired_size)/max(old_size)\n",
    "        new_size = tuple([int(x*ratio) for x in old_size])\n",
    "\n",
    "        im = im.resize(new_size, Image.ANTIALIAS)\n",
    "\n",
    "        new_im = Image.new(\"RGB\", (desired_size, desired_size))\n",
    "        new_im.paste(im, ((desired_size-new_size[0])//2,\n",
    "                            (desired_size-new_size[1])//2))\n",
    "\n",
    "        # new_im.show()\n",
    "        new_im.save(new_path)"
   ]
  },
  {
   "cell_type": "code",
   "execution_count": 73,
   "metadata": {},
   "outputs": [
    {
     "data": {
      "text/plain": [
       "['swaz']"
      ]
     },
     "execution_count": 73,
     "metadata": {},
     "output_type": "execute_result"
    }
   ],
   "source": []
  }
 ],
 "metadata": {
  "kernelspec": {
   "display_name": "Python 3",
   "language": "python",
   "name": "python3"
  },
  "language_info": {
   "codemirror_mode": {
    "name": "ipython",
    "version": 3
   },
   "file_extension": ".py",
   "mimetype": "text/x-python",
   "name": "python",
   "nbconvert_exporter": "python",
   "pygments_lexer": "ipython3",
   "version": "3.6.6"
  }
 },
 "nbformat": 4,
 "nbformat_minor": 2
}
