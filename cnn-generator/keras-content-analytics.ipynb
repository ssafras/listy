{
 "cells": [
  {
   "cell_type": "code",
   "execution_count": 1,
   "metadata": {},
   "outputs": [
    {
     "name": "stderr",
     "output_type": "stream",
     "text": [
      "Using TensorFlow backend.\n"
     ]
    }
   ],
   "source": [
    "import keras\n",
    "from keras.datasets import mnist\n",
    "from keras.models import Sequential\n",
    "from keras.layers import Dense, Dropout, Flatten\n",
    "from keras.layers import Conv2D, MaxPooling2D, ZeroPadding2D, Convolution2D\n",
    "from keras import backend as K\n",
    "from keras.applications.vgg16 import preprocess_input\n",
    "from keras.preprocessing import image\n",
    "from keras.preprocessing.image import ImageDataGenerator\n",
    "from PIL import ImageFile\n",
    "import matplotlib.pyplot as plt\n",
    "ImageFile.LOAD_TRUNCATED_IMAGES = True"
   ]
  },
  {
   "cell_type": "code",
   "execution_count": 2,
   "metadata": {},
   "outputs": [
    {
     "name": "stdout",
     "output_type": "stream",
     "text": [
      "Found 18294 images belonging to 116 classes.\n",
      "Found 6903 images belonging to 116 classes.\n",
      "Found 6571 images belonging to 116 classes.\n"
     ]
    }
   ],
   "source": [
    "# Config\n",
    "img_rows, img_cols = 224, 224\n",
    "batch_size = 32\n",
    "epochs = 50\n",
    "\n",
    "ImageDataGenerator()\n",
    "\n",
    "\n",
    "# Custom Dataset\n",
    "train_datagen = ImageDataGenerator(\n",
    "                            rescale = 1./255,\n",
    "                            rotation_range=5,\n",
    "                            preprocessing_function=preprocess_input,\n",
    "#                             width_shift_range=5. / img_rows,\n",
    "#                             height_shift_range=5. / img_cols,\n",
    "                            )\n",
    "test_datagen = ImageDataGenerator(\n",
    "                            rescale = 1./255,\n",
    "                            preprocessing_function=preprocess_input,\n",
    "                            )\n",
    "\n",
    "train_generator = train_datagen.flow_from_directory('/home/spiros/Desktop/data-processed/train',\n",
    "    target_size = (img_rows, img_cols),\n",
    "    batch_size = batch_size,\n",
    "    color_mode=\"rgb\", #One of \"grayscale\", \"rgb\"\n",
    "    class_mode = 'categorical')\n",
    "\n",
    "validation_generator = test_datagen.flow_from_directory('/home/spiros/Desktop/data-processed/validation',\n",
    "    target_size = (img_rows, img_cols),\n",
    "    batch_size = batch_size,\n",
    "    color_mode=\"rgb\", #One of \"grayscale\", \"rgb\"\n",
    "    class_mode = 'categorical')\n",
    "\n",
    "test_generator = test_datagen.flow_from_directory('/home/spiros/Desktop/data-processed/test',\n",
    "    target_size = (img_rows, img_cols),\n",
    "    batch_size = batch_size,\n",
    "    color_mode=\"rgb\", #One of \"grayscale\", \"rgb\"\n",
    "    class_mode = 'categorical')"
   ]
  },
  {
   "cell_type": "code",
   "execution_count": 3,
   "metadata": {},
   "outputs": [
    {
     "name": "stdout",
     "output_type": "stream",
     "text": [
      "{'aim-odontokrema': 0, 'aim-odontovourtses': 1, 'air_wick': 2, 'ajax-tzamia': 3, 'alevri-giotis': 4, 'alfa': 5, 'alouminoxarto': 6, 'anatoli-vafi-avgon': 7, 'anthos-giotis-vanilia': 8, 'ariel': 9, 'ariel-roz': 10, 'avon-care': 11, 'baby_shampoo': 12, 'baking-powder-alatini': 13, 'barilla-farfale': 14, 'barilla-spaghetini': 15, 'beckmann_katharistiko_alatwn': 16, 'beckmann_keramikes_esties': 17, 'bepanthol': 18, 'big_pen': 19, 'camel': 20, 'cheerios': 21, 'cien-cotton-buds': 22, 'cien-wet-wipes': 23, 'cif': 24, 'cif_micro_crystals': 25, 'coca-cola-zero': 26, 'colgate-stomatiko-dialuma': 27, 'cover': 28, 'cream-soap-finale': 29, 'dettol-hand-soap': 30, 'dettol-powerandfresh': 31, 'dettol_soft_on_skin': 32, 'digestive-bars': 33, 'dog-dental-sticks': 34, 'dove-deodorant': 35, 'duck': 36, 'ecofarm_oksigonouxo': 37, 'elvive_loreal': 38, 'fairy-kapsoules': 39, 'fairy-ugro': 40, 'fakes-galaxias': 41, 'farina-portokali': 42, 'fredoccino': 43, 'froutosalata': 44, 'gigantes-3alfa': 45, 'gillette-blue': 46, 'glen_orchy': 47, 'harpic': 48, 'ivi-xoris-zaxari': 49, 'joker-croissant': 50, 'kalamakia': 51, 'katselis-ble': 52, 'ketchup': 53, 'klinex': 54, 'klinex-green': 55, 'klinex-patoma-lemon': 56, 'knor-rizi-bizi': 57, 'knorr_manitarosoupa': 58, 'lemonlime': 59, 'levanta-aristo': 60, 'linguini': 61, 'lipokatharistiko-galaxias': 62, 'lipton-greentea-lemon-sakoulakia': 63, 'lipton-lemon-boukali': 64, 'marata-zaxari': 65, 'mega_wipes': 66, 'moustarda-hellmans-spice': 67, 'moustarda-spicy-heinz': 68, 'natreen-sugar': 69, 'nescafe-classic': 70, 'nescafe-gold-blend': 71, 'nestle-fitness-chocolate': 72, 'nivea_shaving': 73, 'noxzema-plastic': 74, 'nutricia-biskotokrema': 75, 'odontoglifides': 76, 'oinopneuma': 77, 'oyzo': 78, 'palmolive': 79, 'perla-alati': 80, 'planet_spa': 81, 'planet_spa_kitrino': 82, 'pom_pon': 83, 'portokalada-marata': 84, 'pronto': 85, 'realemon': 86, 'rice': 87, 'rio_tone': 88, 'rol_ugro': 89, 'royal-dutch-beer': 90, 'simigdali': 91, 'sokolata-rofima-galaxias': 92, 'soupline': 93, 'spagheti-marata': 94, 'swaz': 95, 'tea-lemon': 96, 'tide': 97, 'tomatopoltos-galaxias': 98, 'tomatopoltos-marata': 99, 'tomatopoltos-pummaro': 100, 'top-balsamiko-meli-lemoni': 101, 'top-miloxido': 102, 'trata-tonos-pikantikos': 103, 'trident-diosmos-koutaki': 104, 'vanish_gold': 105, 'veet': 106, 'viakal': 107, 'vlaxas-zaxarouxo': 108, 'water-vikos': 109, 'water-zagori': 110, 'water_soft_aliminium': 111, 'xartopetsetes': 112, 'xydi': 113, 'zele-giotis': 114, 'zewa': 115}\n"
     ]
    }
   ],
   "source": [
    "#print(vars(train_generator))\n",
    "print(train_generator.class_indices)"
   ]
  },
  {
   "cell_type": "code",
   "execution_count": 4,
   "metadata": {},
   "outputs": [],
   "source": [
    "training_set = train_generator.samples\n",
    "validation_set = validation_generator.samples\n",
    "test_set = test_generator.samples\n",
    "num_classes = train_generator.num_classes"
   ]
  },
  {
   "cell_type": "code",
   "execution_count": 5,
   "metadata": {},
   "outputs": [],
   "source": [
    "if K.image_data_format() == 'channels_first':\n",
    "    input_shape = (3, img_rows, img_cols)\n",
    "else:\n",
    "    input_shape = (img_rows, img_cols, 3)"
   ]
  },
  {
   "cell_type": "code",
   "execution_count": 6,
   "metadata": {},
   "outputs": [
    {
     "name": "stdout",
     "output_type": "stream",
     "text": [
      "_________________________________________________________________\n",
      "Layer (type)                 Output Shape              Param #   \n",
      "=================================================================\n",
      "zero_padding2d_1 (ZeroPaddin (None, 226, 226, 3)       0         \n",
      "_________________________________________________________________\n",
      "conv2d_1 (Conv2D)            (None, 224, 224, 64)      1792      \n",
      "_________________________________________________________________\n",
      "zero_padding2d_2 (ZeroPaddin (None, 226, 226, 64)      0         \n",
      "_________________________________________________________________\n",
      "conv2d_2 (Conv2D)            (None, 224, 224, 64)      36928     \n",
      "_________________________________________________________________\n",
      "max_pooling2d_1 (MaxPooling2 (None, 112, 112, 64)      0         \n",
      "_________________________________________________________________\n",
      "zero_padding2d_3 (ZeroPaddin (None, 114, 114, 64)      0         \n",
      "_________________________________________________________________\n",
      "conv2d_3 (Conv2D)            (None, 112, 112, 128)     73856     \n",
      "_________________________________________________________________\n",
      "zero_padding2d_4 (ZeroPaddin (None, 114, 114, 128)     0         \n",
      "_________________________________________________________________\n",
      "conv2d_4 (Conv2D)            (None, 112, 112, 128)     147584    \n",
      "_________________________________________________________________\n",
      "max_pooling2d_2 (MaxPooling2 (None, 56, 56, 128)       0         \n",
      "_________________________________________________________________\n",
      "zero_padding2d_5 (ZeroPaddin (None, 58, 58, 128)       0         \n",
      "_________________________________________________________________\n",
      "conv2d_5 (Conv2D)            (None, 56, 56, 256)       295168    \n",
      "_________________________________________________________________\n",
      "zero_padding2d_6 (ZeroPaddin (None, 58, 58, 256)       0         \n",
      "_________________________________________________________________\n",
      "conv2d_6 (Conv2D)            (None, 56, 56, 256)       590080    \n",
      "_________________________________________________________________\n",
      "zero_padding2d_7 (ZeroPaddin (None, 58, 58, 256)       0         \n",
      "_________________________________________________________________\n",
      "conv2d_7 (Conv2D)            (None, 56, 56, 256)       590080    \n",
      "_________________________________________________________________\n",
      "max_pooling2d_3 (MaxPooling2 (None, 28, 28, 256)       0         \n",
      "_________________________________________________________________\n",
      "zero_padding2d_8 (ZeroPaddin (None, 30, 30, 256)       0         \n",
      "_________________________________________________________________\n",
      "conv2d_8 (Conv2D)            (None, 28, 28, 512)       1180160   \n",
      "_________________________________________________________________\n",
      "zero_padding2d_9 (ZeroPaddin (None, 30, 30, 512)       0         \n",
      "_________________________________________________________________\n",
      "conv2d_9 (Conv2D)            (None, 28, 28, 512)       2359808   \n",
      "_________________________________________________________________\n",
      "zero_padding2d_10 (ZeroPaddi (None, 30, 30, 512)       0         \n",
      "_________________________________________________________________\n",
      "conv2d_10 (Conv2D)           (None, 28, 28, 512)       2359808   \n",
      "_________________________________________________________________\n",
      "max_pooling2d_4 (MaxPooling2 (None, 14, 14, 512)       0         \n",
      "_________________________________________________________________\n",
      "zero_padding2d_11 (ZeroPaddi (None, 16, 16, 512)       0         \n",
      "_________________________________________________________________\n",
      "conv2d_11 (Conv2D)           (None, 14, 14, 512)       2359808   \n",
      "_________________________________________________________________\n",
      "zero_padding2d_12 (ZeroPaddi (None, 16, 16, 512)       0         \n",
      "_________________________________________________________________\n",
      "conv2d_12 (Conv2D)           (None, 14, 14, 512)       2359808   \n",
      "_________________________________________________________________\n",
      "zero_padding2d_13 (ZeroPaddi (None, 16, 16, 512)       0         \n",
      "_________________________________________________________________\n",
      "conv2d_13 (Conv2D)           (None, 14, 14, 512)       2359808   \n",
      "_________________________________________________________________\n",
      "max_pooling2d_5 (MaxPooling2 (None, 7, 7, 512)         0         \n",
      "_________________________________________________________________\n",
      "flatten_1 (Flatten)          (None, 25088)             0         \n",
      "_________________________________________________________________\n",
      "dense_1 (Dense)              (None, 4096)              102764544 \n",
      "_________________________________________________________________\n",
      "dropout_1 (Dropout)          (None, 4096)              0         \n",
      "_________________________________________________________________\n",
      "dense_2 (Dense)              (None, 4096)              16781312  \n",
      "_________________________________________________________________\n",
      "dropout_2 (Dropout)          (None, 4096)              0         \n",
      "_________________________________________________________________\n",
      "dense_3 (Dense)              (None, 116)               475252    \n",
      "=================================================================\n",
      "Total params: 134,735,796\n",
      "Trainable params: 134,735,796\n",
      "Non-trainable params: 0\n",
      "_________________________________________________________________\n",
      "None\n"
     ]
    }
   ],
   "source": [
    "model = Sequential()\n",
    "\n",
    "# VGG-16 based model\n",
    "model.add(ZeroPadding2D((1,1),input_shape=input_shape))\n",
    "model.add(Conv2D(64, (3, 3), activation='relu'))\n",
    "model.add(ZeroPadding2D((1,1)))\n",
    "model.add(Conv2D(64, (3, 3), activation='relu'))\n",
    "model.add(MaxPooling2D((2,2), strides=(2,2)))\n",
    "\n",
    "model.add(ZeroPadding2D((1,1)))\n",
    "model.add(Conv2D(128, (3, 3), activation='relu'))\n",
    "model.add(ZeroPadding2D((1,1)))\n",
    "model.add(Conv2D(128, (3, 3), activation='relu'))\n",
    "model.add(MaxPooling2D((2,2), strides=(2,2)))\n",
    "\n",
    "model.add(ZeroPadding2D((1,1)))\n",
    "model.add(Conv2D(256, (3, 3), activation='relu'))\n",
    "model.add(ZeroPadding2D((1,1)))\n",
    "model.add(Conv2D(256, (3, 3), activation='relu'))\n",
    "model.add(ZeroPadding2D((1,1)))\n",
    "model.add(Conv2D(256, (3, 3), activation='relu'))\n",
    "model.add(MaxPooling2D((2,2), strides=(2,2)))\n",
    "\n",
    "model.add(ZeroPadding2D((1,1)))\n",
    "model.add(Conv2D(512, (3, 3), activation='relu'))\n",
    "model.add(ZeroPadding2D((1,1)))\n",
    "model.add(Conv2D(512, (3, 3), activation='relu'))\n",
    "model.add(ZeroPadding2D((1,1)))\n",
    "model.add(Conv2D(512, (3, 3), activation='relu'))\n",
    "model.add(MaxPooling2D((2,2), strides=(2,2)))\n",
    "\n",
    "model.add(ZeroPadding2D((1,1)))\n",
    "model.add(Conv2D(512, (3, 3), activation='relu'))\n",
    "model.add(ZeroPadding2D((1,1)))\n",
    "model.add(Conv2D(512, (3, 3), activation='relu'))\n",
    "model.add(ZeroPadding2D((1,1)))\n",
    "model.add(Conv2D(512, (3, 3), activation='relu'))\n",
    "model.add(MaxPooling2D((2,2), strides=(2,2)))\n",
    "\n",
    "model.add(Flatten())\n",
    "model.add(Dense(4096, activation='relu'))\n",
    "model.add(Dropout(0.5))\n",
    "model.add(Dense(4096, activation='relu'))\n",
    "model.add(Dropout(0.5))\n",
    "model.add(Dense(num_classes, activation='softmax'))\n",
    "\n",
    "# Simpler VGG based on trials\n",
    "# model.add(Conv2D(32, kernel_size=(3, 3), activation='relu',input_shape=input_shape))\n",
    "# model.add(Conv2D(32, (3, 3), activation='relu'))\n",
    "# model.add(MaxPooling2D((2,2), strides=(2,2)))\n",
    "# model.add(Conv2D(64, (3, 3), activation='relu'))\n",
    "# model.add(Conv2D(64, (3, 3), activation='relu'))\n",
    "# model.add(MaxPooling2D((2,2), strides=(2,2)))\n",
    "# model.add(Conv2D(128, (3, 3), activation='relu'))\n",
    "# model.add(Conv2D(128, (3, 3), activation='relu'))\n",
    "# model.add(MaxPooling2D((2,2), strides=(2,2)))\n",
    "# model.add(Conv2D(256, (3, 3), activation='relu'))\n",
    "# model.add(Conv2D(256, (3, 3), activation='relu'))\n",
    "# model.add(MaxPooling2D((2,2), strides=(2,2)))\n",
    "# model.add(Conv2D(512, (3, 3), activation='relu'))\n",
    "# model.add(Conv2D(512, (3, 3), activation='relu'))\n",
    "# model.add(MaxPooling2D((2,2), strides=(2,2)))\n",
    "# model.add(Flatten())\n",
    "# model.add(Dense(1024, activation='relu'))\n",
    "# model.add(Dense(1024, activation='relu'))\n",
    "# model.add(Dense(num_classes, activation='softmax'))\n",
    "\n",
    "# Pappas based model\n",
    "# model.add(Conv2D(32, kernel_size=(3, 3), activation='relu',input_shape=input_shape))\n",
    "# model.add(Conv2D(64, (3, 3), activation='relu'))\n",
    "# model.add(MaxPooling2D(pool_size=(2, 2)))\n",
    "# model.add(Dropout(0.25))\n",
    "# model.add(Flatten())\n",
    "# model.add(Dense(128, activation='relu'))\n",
    "# model.add(Dropout(0.5))\n",
    "# model.add(Dense(num_classes, activation='softmax'))\n",
    "\n",
    "print(model.summary())"
   ]
  },
  {
   "cell_type": "code",
   "execution_count": 7,
   "metadata": {},
   "outputs": [],
   "source": [
    "model.compile(\n",
    "    loss=keras.losses.categorical_crossentropy,\n",
    "    optimizer = keras.optimizers.SGD(lr=0.01, decay=1e-6, momentum=0.9, nesterov=True),\n",
    "#     optimizer=keras.optimizers.Adadelta(),\n",
    "#     optimizer=keras.optimizers.Adam(lr=0.01),\n",
    "#     optimizer=keras.optimizers.RMSprop(lr=0.1),\n",
    "    metrics=['accuracy']\n",
    ")\n"
   ]
  },
  {
   "cell_type": "code",
   "execution_count": 8,
   "metadata": {},
   "outputs": [
    {
     "name": "stdout",
     "output_type": "stream",
     "text": [
      "Epoch 1/50\n",
      "572/572 [==============================] - 296s 518ms/step - loss: 4.7085 - acc: 0.0194 - val_loss: 4.7637 - val_acc: 0.0232\n",
      "Epoch 2/50\n",
      "572/572 [==============================] - 281s 491ms/step - loss: 3.7085 - acc: 0.1424 - val_loss: 3.3567 - val_acc: 0.2603\n",
      "Epoch 3/50\n",
      "572/572 [==============================] - 279s 488ms/step - loss: 0.8078 - acc: 0.7740 - val_loss: 3.4530 - val_acc: 0.4149\n",
      "Epoch 4/50\n",
      "572/572 [==============================] - 279s 487ms/step - loss: 0.2376 - acc: 0.9337 - val_loss: 3.9453 - val_acc: 0.4504\n",
      "Epoch 5/50\n",
      "572/572 [==============================] - 278s 487ms/step - loss: 0.1003 - acc: 0.9731 - val_loss: 3.7414 - val_acc: 0.4927\n",
      "Epoch 6/50\n",
      "572/572 [==============================] - 278s 487ms/step - loss: 0.0692 - acc: 0.9815 - val_loss: 3.7039 - val_acc: 0.4895\n",
      "Epoch 7/50\n",
      "572/572 [==============================] - 278s 485ms/step - loss: 0.0588 - acc: 0.9828 - val_loss: 3.5604 - val_acc: 0.4786\n",
      "Epoch 8/50\n",
      "572/572 [==============================] - 278s 487ms/step - loss: 0.0353 - acc: 0.9896 - val_loss: 3.5848 - val_acc: 0.4736\n",
      "Epoch 9/50\n",
      "572/572 [==============================] - 278s 486ms/step - loss: 0.0341 - acc: 0.9910 - val_loss: 4.2234 - val_acc: 0.5327\n",
      "Epoch 10/50\n",
      "572/572 [==============================] - 278s 487ms/step - loss: 0.0291 - acc: 0.9918 - val_loss: 3.6288 - val_acc: 0.5290\n",
      "Epoch 00010: early stopping\n"
     ]
    }
   ],
   "source": [
    "early_stop = keras.callbacks.EarlyStopping(\n",
    "    monitor   = 'val_loss',\n",
    "    min_delta = 0,\n",
    "    patience  = 8,\n",
    "    verbose   = 1,\n",
    "    mode      = 'auto'\n",
    ")\n",
    "\n",
    "history = model.fit_generator(generator=train_generator,\n",
    "                    validation_data=validation_generator,\n",
    "                    workers=2,\n",
    "                    use_multiprocessing=True,\n",
    "                    epochs           = epochs,\n",
    "                    verbose          = 1,\n",
    "                    callbacks        = [early_stop]\n",
    ")"
   ]
  },
  {
   "cell_type": "code",
   "execution_count": 9,
   "metadata": {},
   "outputs": [
    {
     "name": "stdout",
     "output_type": "stream",
     "text": [
      "Test loss: 2.3324525229663466\n",
      "Test accuracy: 0.7033936996253871\n"
     ]
    }
   ],
   "source": [
    "score = model.evaluate_generator(test_generator, verbose=0)\n",
    "print('Test loss:', score[0])\n",
    "print('Test accuracy:', score[1])"
   ]
  },
  {
   "cell_type": "code",
   "execution_count": 10,
   "metadata": {},
   "outputs": [
    {
     "data": {
      "text/plain": [
       "Text(0.5,1,'Accuracy Curves')"
      ]
     },
     "execution_count": 10,
     "metadata": {},
     "output_type": "execute_result"
    },
    {
     "data": {
      "image/png": "[encoded data removed]",
      "text/plain": [
       "<Figure size 576x432 with 1 Axes>"
      ]
     },
     "metadata": {
      "needs_background": "light"
     },
     "output_type": "display_data"
    },
    {
     "data": {
      "image/png": "[encoded data removed]",
      "text/plain": [
       "<Figure size 576x432 with 1 Axes>"
      ]
     },
     "metadata": {
      "needs_background": "light"
     },
     "output_type": "display_data"
    }
   ],
   "source": [
    "#Plot the Loss Curves\n",
    "plt.figure(figsize=[8,6])\n",
    "plt.plot(history.history['loss'],'r',linewidth=3.0)\n",
    "plt.plot(history.history['val_loss'],'b',linewidth=3.0)\n",
    "plt.legend(['Training loss', 'Validation Loss'],fontsize=18)\n",
    "plt.xlabel('Epochs ',fontsize=16)\n",
    "plt.ylabel('Loss',fontsize=16)\n",
    "plt.title('Loss Curves',fontsize=16)\n",
    " \n",
    "#Plot the Accuracy Curves\n",
    "plt.figure(figsize=[8,6])\n",
    "plt.plot(history.history['acc'],'r',linewidth=3.0)\n",
    "plt.plot(history.history['val_acc'],'b',linewidth=3.0)\n",
    "plt.legend(['Training Accuracy', 'Validation Accuracy'],fontsize=18)\n",
    "plt.xlabel('Epochs ',fontsize=16)\n",
    "plt.ylabel('Accuracy',fontsize=16)\n",
    "plt.title('Accuracy Curves',fontsize=16)"
   ]
  },
  {
   "cell_type": "code",
   "execution_count": 11,
   "metadata": {},
   "outputs": [
    {
     "name": "stdout",
     "output_type": "stream",
     "text": [
      "Saved model to disk\n"
     ]
    }
   ],
   "source": [
    "# serialize model to JSON\n",
    "model_json = model.to_json()\n",
    "with open(\"model.json\", \"w\") as json_file:\n",
    "    json_file.write(model_json)\n",
    "# serialize weights to HDF5\n",
    "model.save_weights(\"model.h5\")\n",
    "print(\"Saved model to disk\")\n",
    " \n"
   ]
  },
  {
   "cell_type": "code",
   "execution_count": null,
   "metadata": {},
   "outputs": [],
   "source": []
  }
 ],
 "metadata": {
  "kernelspec": {
   "display_name": "Python 3",
   "language": "python",
   "name": "python3"
  },
  "language_info": {
   "codemirror_mode": {
    "name": "ipython",
    "version": 3
   },
   "file_extension": ".py",
   "mimetype": "text/x-python",
   "name": "python",
   "nbconvert_exporter": "python",
   "pygments_lexer": "ipython3",
   "version": "3.6.6"
  }
 },
 "nbformat": 4,
 "nbformat_minor": 2
}
